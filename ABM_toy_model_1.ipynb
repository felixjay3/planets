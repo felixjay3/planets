{
  "nbformat": 4,
  "nbformat_minor": 0,
  "metadata": {
    "colab": {
      "provenance": [],
      "include_colab_link": true
    },
    "kernelspec": {
      "name": "python3",
      "display_name": "Python 3"
    },
    "language_info": {
      "name": "python"
    }
  },
  "cells": [
    {
      "cell_type": "markdown",
      "metadata": {
        "id": "view-in-github",
        "colab_type": "text"
      },
      "source": [
        "<a href=\"https://colab.research.google.com/github/felixjay3/planets/blob/main/ABM_toy_model_1.ipynb\" target=\"_parent\"><img src=\"https://colab.research.google.com/assets/colab-badge.svg\" alt=\"Open In Colab\"/></a>"
      ]
    },
    {
      "cell_type": "markdown",
      "source": [
        "### **Agent-based toy model of disease transmission**\n",
        "\n",
        "Agent-based model (ABM): ABM=**O**bjects+**A**ttributes+**R**ules\n",
        "\n",
        "Use object-oriented programming as design principle for agent-based models!\n",
        "\n",
        "\n",
        "### **O**bject\n",
        "\n",
        "*   primary **object** is the human host (Python: class)\n",
        "\n",
        "### **A**ttributes\n",
        "*   the host has certain **attributes** such as personal identification number, age, location, ... (Python: attributes)\n",
        "\n",
        "### **R**ules\n",
        "*   certain attributes change according to **rules**, e.g. aging, movement (Python: methods)\n",
        "\n"
      ],
      "metadata": {
        "id": "Mt7TKte_Rke0"
      }
    },
    {
      "cell_type": "code",
      "execution_count": null,
      "metadata": {
        "id": "cWZOkiFvLI0b"
      },
      "outputs": [],
      "source": [
        "import random\n",
        "import numpy as np\n",
        "\n",
        "##we create a host class with certain attributes (and default values)\n",
        "class host :\n",
        "  \"\"\"host characteristics\"\"\"\n",
        "  def __init__( self , pin=\"\", age=0 , location=\"indoor\"):\n",
        "    self.pin = pin\n",
        "    self.age = age\n",
        "    self.location = location\n",
        "##now we add methods for the class, e.g. movement, aging\n",
        "  \"\"\"movement\"\"\"\n",
        "  def changeLocation( self ):\n",
        "    if self.location ==\"indoor\":\n",
        "      self.location = \"outdoor\"\n",
        "    else:\n",
        "      self.location = \"indoor\"\n",
        "  \"\"\"aging\"\"\"\n",
        "  def aging ( self):\n",
        "    self.age +=1\n"
      ]
    },
    {
      "cell_type": "markdown",
      "source": [
        "Let's play with the attributes and rules!"
      ],
      "metadata": {
        "id": "Wo7yelgpUi2o"
      }
    },
    {
      "cell_type": "code",
      "source": [
        "###1) Let's create a 5-year old host called Lucy and let her age throughout 5 years:\n",
        "Lucy=host(pin=\"Lucy5\",age=5)\n",
        "##Let's get her age\n",
        "print(Lucy.age)\n",
        "##Times flies by\n",
        "[Lucy.aging() for i in range(0,5)]\n",
        "##Let's get her age\n",
        "print(Lucy.age)\n",
        "\n",
        "###2) Lucy always stays indoor, let's move her outdoor at the age of 6\n",
        "print(Lucy.location)\n",
        "Lucy.changeLocation()\n",
        "print(Lucy.location)"
      ],
      "metadata": {
        "colab": {
          "base_uri": "https://localhost:8080/"
        },
        "id": "oIZhzNXvU_TE",
        "outputId": "162a0392-d1e9-4df7-a801-ffcf3516224f"
      },
      "execution_count": null,
      "outputs": [
        {
          "output_type": "stream",
          "name": "stdout",
          "text": [
            "5\n",
            "10\n",
            "indoor\n",
            "outdoor\n"
          ]
        }
      ]
    },
    {
      "cell_type": "markdown",
      "source": [
        "We can always ask python, which attributes and rules a certain object has:"
      ],
      "metadata": {
        "id": "H1GxPpJ5WO0j"
      }
    },
    {
      "cell_type": "code",
      "source": [
        "###Let's get the methods and attributes of Lucy\n",
        "methodAttr_list = [method for method in dir(Lucy) if method.startswith('__') is False]\n",
        "print(methodAttr_list)"
      ],
      "metadata": {
        "colab": {
          "base_uri": "https://localhost:8080/"
        },
        "id": "oPvbIRlbWVy6",
        "outputId": "e093b5be-dea4-4fda-eb32-4fc0139c80e9"
      },
      "execution_count": null,
      "outputs": [
        {
          "output_type": "stream",
          "name": "stdout",
          "text": [
            "['age', 'aging', 'changeLocation', 'location', 'pin']\n"
          ]
        }
      ]
    },
    {
      "cell_type": "markdown",
      "source": [
        "**Exercise 1:** Create a host object with the attributes gender, and create an instance of Lucy."
      ],
      "metadata": {
        "id": "Gyi69r8DWnkp"
      }
    },
    {
      "cell_type": "markdown",
      "source": [
        "From one to many individuals: we create a list of hosts following a given age distribution:\n"
      ],
      "metadata": {
        "id": "Vim7JILzYeu3"
      }
    },
    {
      "cell_type": "code",
      "source": [
        "##We create 500 individuals\n",
        "N=500\n",
        "##we create a list (array)\n",
        "hosts=[host(pin=i,age=a) for i,a in zip(range(N),random.choices ([ 0 , 10, 20] ,weights =[ 0.1 , 0.5, 0.4 ],k=N))]\n",
        "##let's plot the age of our hosts\n",
        "import matplotlib.pyplot as plt\n",
        "x=[y.age for y in hosts]\n",
        "plt.hist(x, density=False, bins=3)\n",
        "plt.ylabel('Hosts')\n",
        "plt.xlabel('Age');"
      ],
      "metadata": {
        "colab": {
          "base_uri": "https://localhost:8080/",
          "height": 449
        },
        "id": "mlKKwHMPYsTj",
        "outputId": "a803b5be-36bc-4766-fd55-6dd469697bd4"
      },
      "execution_count": null,
      "outputs": [
        {
          "output_type": "display_data",
          "data": {
            "text/plain": [
              "<Figure size 640x480 with 1 Axes>"
            ],
            "image/png": "[encoded data removed]"
          },
          "metadata": {}
        }
      ]
    },
    {
      "cell_type": "markdown",
      "source": [
        "**Exercise 2:** Download the age pyramid of Rwanda from https://www.populationpyramid.net/rwanda/2023/ and initialize 1000 hosts according to this gender and age distribution"
      ],
      "metadata": {
        "id": "Auk2OBmHaLrH"
      }
    },
    {
      "cell_type": "markdown",
      "source": [
        "We let the host population age as a **cohort** (i.e. no new hosts can join the population, no deaths) for 5 years, a celebrate the hosts' 15th birthday"
      ],
      "metadata": {
        "id": "A0eEvWzCbc6k"
      }
    },
    {
      "cell_type": "code",
      "source": [
        "for i,j in enumerate(hosts):\n",
        "  for k in range(0,5):\n",
        "    hosts[i].aging()\n",
        "\n",
        "birthdayHosts = [host.pin for host in hosts if host.age == 15]\n",
        "print(birthdayHosts)"
      ],
      "metadata": {
        "colab": {
          "base_uri": "https://localhost:8080/"
        },
        "id": "P2AQfsRRboJU",
        "outputId": "ae0575cc-66f9-4b0f-8042-99674f39678a"
      },
      "execution_count": null,
      "outputs": [
        {
          "output_type": "stream",
          "name": "stdout",
          "text": [
            "[0, 1, 2, 9, 10, 12, 14, 19, 20, 21, 22, 25, 26, 28, 29, 31, 32, 34, 35, 36, 41, 43, 45, 46, 49, 52, 55, 57, 61, 63, 67, 68, 71, 76, 78, 80, 83, 84, 85, 86, 88, 89, 97, 98, 99, 100, 101, 107, 109, 110, 111, 116, 117, 119, 122, 128, 129, 135, 137, 141, 143, 144, 145, 146, 149, 158, 159, 161, 162, 164, 167, 168, 169, 170, 172, 173, 176, 177, 178, 180, 181, 187, 190, 191, 192, 193, 196, 198, 199, 202, 207, 208, 212, 214, 215, 217, 218, 221, 223, 224, 225, 226, 227, 229, 237, 239, 240, 241, 242, 243, 246, 248, 254, 255, 256, 257, 261, 262, 264, 267, 269, 270, 273, 274, 276, 277, 278, 280, 281, 282, 284, 288, 289, 290, 294, 296, 297, 298, 299, 301, 302, 303, 306, 313, 317, 318, 320, 321, 325, 326, 329, 330, 332, 333, 336, 337, 339, 340, 341, 342, 345, 346, 347, 348, 349, 354, 358, 359, 361, 364, 365, 367, 368, 373, 375, 376, 378, 379, 380, 381, 384, 385, 387, 391, 392, 393, 395, 397, 403, 405, 406, 407, 408, 409, 410, 411, 415, 416, 417, 422, 423, 424, 426, 428, 429, 431, 432, 433, 434, 435, 438, 441, 443, 444, 446, 447, 448, 449, 450, 454, 457, 460, 463, 464, 466, 468, 474, 475, 476, 478, 481, 486, 487, 491, 492, 495, 498, 499]\n"
          ]
        }
      ]
    },
    {
      "cell_type": "markdown",
      "source": [
        "## Dynamical systems = change of host attributes over **time**\n",
        "We are interested in the change of the host's attributes over time. We need to define chronological time *T*, a time unit and time increment size *DeltaT*. At the same time, we also add infection attributes to the host class. In order to record the history of each host, we change the attributes to lists\n"
      ],
      "metadata": {
        "id": "WoPMa5KnT0ao"
      }
    },
    {
      "cell_type": "code",
      "source": [
        "##we create a host class with certain attributes (and default values)\n",
        "class host :\n",
        "  \"\"\"host characteristics\"\"\"\n",
        "  def __init__( self , pin=\"\", T=0, age=0 , location=\"indoor\", isInfected=False):\n",
        "    self.pin = pin\n",
        "    self.T = [T]\n",
        "    self.age = [age]\n",
        "    self.location = [location]\n",
        "    self.isInfected = [isInfected]\n",
        "##now we add methods for the class, e.g. movement, aging\n",
        "  \"\"\"movement\"\"\"\n",
        "  def changeLocation( self ):\n",
        "    if self.location ==\"indoor\":\n",
        "      self.location.append(\"outdoor\")\n",
        "    else:\n",
        "      self.location.append(\"indoor\")\n",
        "  \"\"\"aging\"\"\"\n",
        "  def aging (self,DeltaT):\n",
        "    self.age.append(self.age[-1]+DeltaT)"
      ],
      "metadata": {
        "id": "7QHVU-EcXnYx"
      },
      "execution_count": null,
      "outputs": []
    },
    {
      "cell_type": "markdown",
      "source": [
        "We initialize our cohort at time T=0, the time unit is in years, the time increment for updates of the dynamical system is 5 days: DeltaT=5/365.\n",
        "\n",
        "We also change location every 5 days based on some parameter *ProbaChange*."
      ],
      "metadata": {
        "id": "nq_LVM9rlgf_"
      }
    },
    {
      "cell_type": "code",
      "source": [
        "hosts=[host(pin=i,age=a) for i,a in zip(range(N),random.choices ([ 0 , 10, 20] ,weights =[ 0.1 , 0.5, 0.4 ],k=N))]\n",
        "DeltaT=5/365\n",
        "ProbaChange=0.4\n",
        "###We update the system every 5 days and every host\n",
        "for k in np.arange(0,5,DeltaT):\n",
        "  for i,j in enumerate(hosts):\n",
        "    hosts[i].T.append(hosts[i].T[-1]+DeltaT)\n",
        "    hosts[i].aging(DeltaT)###aging\n",
        "    location=random.choices ([True,False] , weights =[ ProbaChange ,1 - ProbaChange ])[0]\n",
        "    if location:\n",
        "      hosts[i].changeLocation()\n",
        "    else:\n",
        "      hosts[i].location.append(hosts[i].location[-1])\n"
      ],
      "metadata": {
        "id": "kil0jVCwlyGa"
      },
      "execution_count": null,
      "outputs": []
    },
    {
      "cell_type": "markdown",
      "source": [
        "It is time to introduce an infection process. Here some rules we want to implement:\n",
        "* You can only get infected, while you are not already infected\n",
        "* If a host is located indoors, he or she has higher infection probability\n",
        "* The infection pressure is proportional to the total number of infected hosts\n",
        "* We also allow clearance of infection, but without any immunity\n",
        "\n",
        "To implement infection, we create a new method for our python class host:"
      ],
      "metadata": {
        "id": "wm2hoDB2nvXg"
      }
    },
    {
      "cell_type": "code",
      "source": [
        "##we create a host class with certain attributes (and default values)\n",
        "class host :\n",
        "  \"\"\"host characteristics\"\"\"\n",
        "  def __init__( self , pin=\"\", T=0, age=0 , location=\"indoor\", isInfected=False):\n",
        "    self.pin = pin\n",
        "    self.T = [T]\n",
        "    self.age = [age]\n",
        "    self.location = [location]\n",
        "    self.isInfected = [isInfected]\n",
        "##now we add methods for the class, e.g. movement, aging\n",
        "  \"\"\"movement\"\"\"\n",
        "  def changeLocation( self ):\n",
        "    if self.location ==\"indoor\":\n",
        "      self.location.append(\"outdoor\")\n",
        "    else:\n",
        "      self.location.append(\"indoor\")\n",
        "  \"\"\"aging\"\"\"\n",
        "  def aging (self,DeltaT):\n",
        "    self.age.append(self.age[-1]+DeltaT)\n",
        "  \"\"\"getInfected\"\"\"\n",
        "  def getInfected(self):\n",
        "    if self.isInfected[-1]==False:\n",
        "      self.isInfected.append(True)\n",
        "    else:\n",
        "      self.isInfected.append(False)\n"
      ],
      "metadata": {
        "id": "oGqhOSARn7pF"
      },
      "execution_count": null,
      "outputs": []
    },
    {
      "cell_type": "code",
      "source": [
        "##demographics\n",
        "hosts=[host(pin=i,age=a) for i,a in zip(range(N),random.choices ([ 0 , 10, 20] ,weights =[ 0.1 , 0.5, 0.4 ],k=N))]\n",
        "\n",
        "##model parameters\n",
        "DeltaT=5/365\n",
        "ProbaChange=0.4\n",
        "ProbaInfection=0.005\n",
        "ProbaClearance=0.004\n",
        "I0=50/N\n",
        "InfectionIndoorMultiplier=8\n",
        "\n",
        "##initial condition\n",
        "initialCondition=random.choices([True,False],weights=[I0,1-I0],k=N)\n",
        "for i,j in enumerate(hosts):\n",
        "  hosts[i].isInfected=[initialCondition[i]]\n",
        "\n",
        "###We update the system every 5 days and for every host\n",
        "for k in np.arange(0,15,DeltaT):\n",
        "  infectionPressure=ProbaInfection*sum([host.isInfected[-1] for host in hosts])/N\n",
        "  for i,j in enumerate(hosts):\n",
        "    ##time increment\n",
        "    hosts[i].T.append(hosts[i].T[-1]+DeltaT)\n",
        "    ##aging\n",
        "    hosts[i].aging(DeltaT)\n",
        "    ##infection\n",
        "    if hosts[i].location==\"indoor\":\n",
        "      infectionPressure*=InfectionIndoorMultiplier ##we need actually a Holling type 3 respone curve here, but hey, it is just a toy\n",
        "    exposure=random.choices([True,False] , weights =[ infectionPressure ,1 - infectionPressure])[0]\n",
        "    if exposure:\n",
        "      hosts[i].getInfected()\n",
        "    else:\n",
        "      hosts[i].isInfected.append(hosts[i].isInfected[-1])\n",
        "    ##clear infection, no immunity, clearance possible only if no new infection happend in this time step\n",
        "    if not (exposure & ~hosts[i].isInfected[-2]):\n",
        "      clearance=random.choices([True,False] , weights =[ProbaClearance ,1 - ProbaClearance])[0]\n",
        "      hosts[i].isInfected[-1]=hosts[i].isInfected[-1] & ~clearance\n",
        "    ##location\n",
        "    location=random.choices([True,False] , weights =[ ProbaChange ,1 - ProbaChange ])[0]\n",
        "    if location:\n",
        "      hosts[i].changeLocation()\n",
        "    else:\n",
        "      hosts[i].location.append(hosts[i].location[-1])"
      ],
      "metadata": {
        "id": "ACF_30acjMFI"
      },
      "execution_count": null,
      "outputs": []
    },
    {
      "cell_type": "code",
      "source": [
        "infectionDuration=[]\n",
        "for i,j in enumerate(hosts):\n",
        "  if any(hosts[i].isInfected):\n",
        "    infectionDuration.append(sum(hosts[i].isInfected)/5)\n",
        "plt.hist(infectionDuration, density=False, bins=30)\n",
        "plt.ylabel('Episodes')\n",
        "plt.xlabel('Infection duration (days)')\n",
        "plt.show()"
      ],
      "metadata": {
        "colab": {
          "base_uri": "https://localhost:8080/",
          "height": 449
        },
        "id": "es5OUemY9Y8V",
        "outputId": "7e442281-09e7-4321-9832-36bc615011b0"
      },
      "execution_count": null,
      "outputs": [
        {
          "output_type": "display_data",
          "data": {
            "text/plain": [
              "<Figure size 640x480 with 1 Axes>"
            ],
            "image/png": "[encoded data removed]"
          },
          "metadata": {}
        }
      ]
    },
    {
      "cell_type": "markdown",
      "source": [
        "Let's plot a prevalence trajectory:"
      ],
      "metadata": {
        "id": "FUdN7zSjiLNe"
      }
    },
    {
      "cell_type": "code",
      "source": [
        "prev=[]\n",
        "for t in range(850):\n",
        "  prevt=[]\n",
        "  for i,j in enumerate(hosts):\n",
        "    prevt.append(hosts[i].isInfected[t])\n",
        "  prev.append(sum(prevt)/N)\n",
        "\n",
        "plt.plot(hosts[1].T[0:850],prev)\n",
        "plt.show()"
      ],
      "metadata": {
        "colab": {
          "base_uri": "https://localhost:8080/",
          "height": 430
        },
        "id": "CY7Uu4Ycnk2t",
        "outputId": "5ac55fcc-7a72-46d8-f1ac-e282b597ef3b"
      },
      "execution_count": null,
      "outputs": [
        {
          "output_type": "display_data",
          "data": {
            "text/plain": [
              "<Figure size 640x480 with 1 Axes>"
            ],
            "image/png": "[encoded data removed]"
          },
          "metadata": {}
        }
      ]
    },
    {
      "cell_type": "markdown",
      "source": [
        "## **This starts to become a mess!**\n",
        "Here some imporant design tips:\n",
        "\n",
        "* we have already done several random number draws, set the **seed** to make your simulations reproducible\n",
        "\n",
        "* check whether your inputs provided to your function arguments are of the right type with *isinstance*\n",
        "\n",
        "* for debugging, you need a **logging** system in your code, python has the *logging* module\n",
        "\n",
        "* to read model outputs, it is good practice to create a *reporter* class that can **access** attribute values of your hosts\n",
        "\n",
        "* in order to efficiently manage model and simulation parameter inputs and the **update** of the dynamical system, you should also create a *simulator* or *scheduler* class\n",
        "\n",
        "* a model is never \"done\", it will always evolve; by creating a generic class for hosts you can write variations of your model by creating **subclasses** from this generic host class, these will inherit all the attributes automatically\n",
        "\n",
        "* for now, our model is Markovian, it does not need to look into the past for updates, for non-Markovian mechanism, updating can become very slow, think of an appropriate **data structure**, e.g. python arrays as implemented in the python package [covasim](https://github.com/institutefordiseasemodeling/covasim) or use database systems such as MongoDB\n",
        "\n",
        "* python modules like [mesa](https://mesa.readthedocs.io/en/stable/) provide some generic ideas how to design ABMs\n",
        "\n",
        "* for Malaria, there are several ABMs with high level of details: [EMOD](https://docs.idmod.org/projects/emod-malaria/en/latest/), [OpenMalaria](https://github.com/SwissTPH/openmalaria/wiki), or [malariasimulation](https://mrc-ide.github.io/malariasimulation/). All these models have been designed and implemented over many years by multiple people, not in high-level programming languages such as Python, maybe for a good reason..."
      ],
      "metadata": {
        "id": "UBpwo2L8k3mX"
      }
    },
    {
      "cell_type": "markdown",
      "source": [
        "### **Collaborative group work challenge**\n",
        "\n",
        "We want to enhance our toy model with some important features in a collaborative way. Each feature should be implemented separately by a group of 3-4 people, but in a way such that it does not obstruct the implementation of the other features. Also, each feature should be tested whether it is doing what it is supposed to do. Initially, each group is given 30 minutes to work concurrently, but we allow 10 minutes additional time for communication between the groups. Eventually, we will merge all the features into one code. Please discuss the **technical challenges**, but also the **group dynamics**.\n",
        "\n",
        "**Feature 1**: Immunity by recent infection, i.e. if you had an infection recently, i.e. less than 60 days ago, you cannot get infected.\n",
        "\n",
        "**Feature 2**: Once your are infected, you are twice less likely to change location.\n",
        "\n",
        "**Feature 3**: You give a therapeutic drug targeting ages 5-10 who have been tested positive, the drug clears infection with 0.8 probability.\n",
        "\n",
        "**Feature 4**: The infection pressure is periodic $f(t)=K(1+\\sin(t \\omega 2\\pi))$.\n",
        "\n",
        "**Feature 5**: How can you visualize the outputs (by age group, infection status, location)?"
      ],
      "metadata": {
        "id": "1p1pIkMtED79"
      }
    }
  ]
}