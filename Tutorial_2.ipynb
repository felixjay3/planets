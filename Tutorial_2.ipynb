{
  "nbformat": 4,
  "nbformat_minor": 0,
  "metadata": {
    "colab": {
      "provenance": [],
      "include_colab_link": true
    },
    "kernelspec": {
      "name": "python3",
      "display_name": "Python 3"
    },
    "language_info": {
      "name": "python"
    }
  },
  "cells": [
    {
      "cell_type": "markdown",
      "metadata": {
        "id": "view-in-github",
        "colab_type": "text"
      },
      "source": [
        "<a href=\"https://colab.research.google.com/github/felixjay3/planets/blob/main/Tutorial_2.ipynb\" target=\"_parent\"><img src=\"https://colab.research.google.com/assets/colab-badge.svg\" alt=\"Open In Colab\"/></a>"
      ]
    },
    {
      "cell_type": "code",
      "execution_count": null,
      "metadata": {
        "id": "orPG_gdr1373"
      },
      "outputs": [],
      "source": [
        "from mpl_toolkits import mplot3d\n",
        "%matplotlib inline\n",
        "import numpy as np\n",
        "import matplotlib.pyplot as plt"
      ]
    },
    {
      "cell_type": "code",
      "source": [
        "fig = plt.figure()\n",
        "ax = plt.axes(projection='3d')"
      ],
      "metadata": {
        "id": "IPU66reX2EOc"
      },
      "execution_count": null,
      "outputs": []
    },
    {
      "cell_type": "code",
      "source": [
        "# Write a function f(x,y), where x is x1, and y is x2\n",
        "def f(x,y):\n",
        "  output = # Write the function here\n",
        "  return output"
      ],
      "metadata": {
        "id": "jE0PFOTk2E-2"
      },
      "execution_count": null,
      "outputs": []
    },
    {
      "cell_type": "code",
      "source": [
        "x = np.linspace(-10, 10, 100)\n",
        "y = np.linspace(-10, 10, 100)\n",
        "\n",
        "X, Y = np.meshgrid(x, y)\n",
        "Z = f(X, Y)"
      ],
      "metadata": {
        "id": "UDf8o3z_2dE8"
      },
      "execution_count": null,
      "outputs": []
    },
    {
      "cell_type": "code",
      "source": [
        "# Write code below to plot the functions, you can refer to these links:\n",
        "# https://matplotlib.org/stable/gallery/mplot3d/surface3d.html\n",
        "# https://matplotlib.org/stable/api/_as_gen/mpl_toolkits.mplot3d.axes3d.Axes3D.plot_surface.html\n",
        "# https://www.tutorialspoint.com/matplotlib/matplotlib_3d_contour_plot.htm\n"
      ],
      "metadata": {
        "id": "LiaPawMk2flZ"
      },
      "execution_count": null,
      "outputs": []
    },
    {
      "cell_type": "code",
      "source": [
        "# Import the necessary modules\n",
        "import torch\n",
        "from torch.autograd import grad\n",
        "\n",
        "# Define the function f\n",
        "def f(x, y):\n",
        "    out = #write function here\n",
        "    return out\n",
        "# Create a tensor x and set\n",
        "# requires_grad=True to track the gradient\n",
        "x = torch.tensor([1.0], requires_grad=True)\n",
        "y = torch.tensor([-1.0], requires_grad=True)\n",
        "\n",
        "z = f(x,y).sum()\n",
        "# Compute the gradient of f with respect to x\n",
        "grad_f =   # read in the website below how to calculate the gradient:\n",
        "\n",
        "# https://www.geeksforgeeks.org/how-to-differentiate-a-gradient-in-pytorch/\n",
        "\n",
        "# Find the gradient value\n",
        "print('df(x,y)/dx = ',grad_f[0])\n",
        "print('\\ndf(x,y)/dy = ',grad_f[1])"
      ],
      "metadata": {
        "id": "wj0bkM-V3Fuh"
      },
      "execution_count": null,
      "outputs": []
    },
    {
      "cell_type": "code",
      "source": [
        "import jax.numpy as npj\n",
        "from jax import grad as gradj\n",
        "\n",
        "def fj(a, b):\n",
        "    out = npj.sum(((a**2 + b - 11)**2) + ((a + b**2 - 7)**2))\n",
        "    return out\n",
        "drev =gradj(fj,argnums=(0, 1))\n"
      ],
      "metadata": {
        "id": "TK-jPIo94H7a"
      },
      "execution_count": null,
      "outputs": []
    },
    {
      "cell_type": "code",
      "source": [
        "a = npj.asarray([1.0])\n",
        "b = npj.asarray([-1.0])\n",
        "print(drev(a,b))"
      ],
      "metadata": {
        "id": "2XED7xIV4RKI"
      },
      "execution_count": null,
      "outputs": []
    },
    {
      "cell_type": "code",
      "source": [
        "# Python program to compute Hessian in PyTorch\n",
        "# importing libraries\n",
        "import torch\n",
        "from torch.autograd.functional import hessian\n",
        "\n",
        "# defining a function\n",
        "def func(k,m):\n",
        "    return (k**3 + m**3 - 3*k + 5*m).sum()\n",
        "\n",
        "# defining the input tensor\n",
        "k = torch.tensor([1.])\n",
        "m = torch.tensor([0.])\n",
        "input = (k,m)\n",
        "# computing the hessian\n",
        "output = hessian(func, input)\n",
        "\n",
        "# printing the above computed tensor\n",
        "print(\"Hessian:\\n\", output)\n"
      ],
      "metadata": {
        "id": "rV4dWGZ74R35"
      },
      "execution_count": null,
      "outputs": []
    }
  ]
}